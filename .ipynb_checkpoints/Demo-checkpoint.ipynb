{
 "cells": [
  {
   "cell_type": "code",
   "execution_count": 1,
   "metadata": {},
   "outputs": [],
   "source": [
    "import argparse\n",
    "\n",
    "import cv2\n",
    "import numpy as np\n",
    "import torch\n",
    "\n",
    "from models.with_mobilenet import PoseEstimationWithMobileNet\n",
    "from modules.keypoints import extract_keypoints, group_keypoints, BODY_PARTS_KPT_IDS, BODY_PARTS_PAF_IDS\n",
    "from modules.load_state import load_state\n",
    "from val import normalize, pad_width"
   ]
  },
  {
   "cell_type": "code",
   "execution_count": 16,
   "metadata": {},
   "outputs": [],
   "source": [
    "from matplotlib import pyplot as plt"
   ]
  },
  {
   "cell_type": "code",
   "execution_count": 2,
   "metadata": {},
   "outputs": [],
   "source": [
    "class ImageReader(object):\n",
    "    def __init__(self, file_names):\n",
    "        self.file_names = file_names\n",
    "        self.max_idx = len(file_names)\n",
    "\n",
    "    def __iter__(self):\n",
    "        self.idx = 0\n",
    "        return self\n",
    "\n",
    "    def __next__(self):\n",
    "        if self.idx == self.max_idx:\n",
    "            raise StopIteration\n",
    "        img = cv2.imread(self.file_names[self.idx], cv2.IMREAD_COLOR)\n",
    "        if img.size == 0:\n",
    "            raise IOError('Image {} cannot be read'.format(self.file_names[self.idx]))\n",
    "        self.idx = self.idx + 1\n",
    "        return img"
   ]
  },
  {
   "cell_type": "code",
   "execution_count": 3,
   "metadata": {},
   "outputs": [],
   "source": [
    "class VideoReader(object):\n",
    "    def __init__(self, file_name):\n",
    "        self.file_name = file_name\n",
    "        try:  # OpenCV needs int to read from webcam\n",
    "            self.file_name = int(file_name)\n",
    "        except ValueError:\n",
    "            pass\n",
    "\n",
    "    def __iter__(self):\n",
    "        self.cap = cv2.VideoCapture(self.file_name)\n",
    "        if not self.cap.isOpened():\n",
    "            raise IOError('Video {} cannot be opened'.format(self.file_name))\n",
    "        return self\n",
    "\n",
    "    def __next__(self):\n",
    "        was_read, img = self.cap.read()\n",
    "        if not was_read:\n",
    "            raise StopIteration\n",
    "        return img"
   ]
  },
  {
   "cell_type": "code",
   "execution_count": 4,
   "metadata": {},
   "outputs": [],
   "source": [
    "def infer_fast(net, img, net_input_height_size, stride, upsample_ratio, cpu,\n",
    "               pad_value=(0, 0, 0), img_mean=(128, 128, 128), img_scale=1/256):\n",
    "    height, width, _ = img.shape\n",
    "    scale = net_input_height_size / height\n",
    "\n",
    "    scaled_img = cv2.resize(img, (0, 0), fx=scale, fy=scale, interpolation=cv2.INTER_CUBIC)\n",
    "    scaled_img = normalize(scaled_img, img_mean, img_scale)\n",
    "    min_dims = [net_input_height_size, max(scaled_img.shape[1], net_input_height_size)]\n",
    "    padded_img, pad = pad_width(scaled_img, stride, pad_value, min_dims)\n",
    "\n",
    "    tensor_img = torch.from_numpy(padded_img).permute(2, 0, 1).unsqueeze(0).float()\n",
    "    if not cpu:\n",
    "        tensor_img = tensor_img.cuda()\n",
    "\n",
    "    stages_output = net(tensor_img)\n",
    "\n",
    "    stage2_heatmaps = stages_output[-2]\n",
    "    heatmaps = np.transpose(stage2_heatmaps.squeeze().cpu().data.numpy(), (1, 2, 0))\n",
    "    heatmaps = cv2.resize(heatmaps, (0, 0), fx=upsample_ratio, fy=upsample_ratio, interpolation=cv2.INTER_CUBIC)\n",
    "\n",
    "    stage2_pafs = stages_output[-1]\n",
    "    pafs = np.transpose(stage2_pafs.squeeze().cpu().data.numpy(), (1, 2, 0))\n",
    "    pafs = cv2.resize(pafs, (0, 0), fx=upsample_ratio, fy=upsample_ratio, interpolation=cv2.INTER_CUBIC)\n",
    "\n",
    "    return heatmaps, pafs, scale, pad"
   ]
  },
  {
   "cell_type": "code",
   "execution_count": 5,
   "metadata": {},
   "outputs": [],
   "source": [
    "class Struct:\n",
    "    def __init__(self, **entries): self.__dict__.update(entries)"
   ]
  },
  {
   "cell_type": "code",
   "execution_count": 21,
   "metadata": {},
   "outputs": [],
   "source": [
    "def run_demo(net, image_provider, height_size, cpu):\n",
    "    net = net.eval()\n",
    "    if not cpu:\n",
    "        net = net.cuda()\n",
    "\n",
    "    stride = 8\n",
    "    upsample_ratio = 4\n",
    "    color = [0, 224, 255]\n",
    "    for img in image_provider:\n",
    "        orig_img = img.copy()\n",
    "        heatmaps, pafs, scale, pad = infer_fast(net, img, height_size, stride, upsample_ratio, cpu)\n",
    "\n",
    "        total_keypoints_num = 0\n",
    "        all_keypoints_by_type = []\n",
    "        for kpt_idx in range(18):  # 19th for bg\n",
    "            total_keypoints_num += extract_keypoints(heatmaps[:, :, kpt_idx], all_keypoints_by_type, total_keypoints_num)\n",
    "\n",
    "        pose_entries, all_keypoints = group_keypoints(all_keypoints_by_type, pafs, demo=True)\n",
    "        for kpt_id in range(all_keypoints.shape[0]):\n",
    "            all_keypoints[kpt_id, 0] = (all_keypoints[kpt_id, 0] * stride / upsample_ratio - pad[1]) / scale\n",
    "            all_keypoints[kpt_id, 1] = (all_keypoints[kpt_id, 1] * stride / upsample_ratio - pad[0]) / scale\n",
    "        for n in range(len(pose_entries)):\n",
    "            if len(pose_entries[n]) == 0:\n",
    "                continue\n",
    "            for part_id in range(len(BODY_PARTS_PAF_IDS) - 2):\n",
    "                kpt_a_id = BODY_PARTS_KPT_IDS[part_id][0]\n",
    "                global_kpt_a_id = pose_entries[n][kpt_a_id]\n",
    "                if global_kpt_a_id != -1:\n",
    "                    x_a, y_a = all_keypoints[int(global_kpt_a_id), 0:2]\n",
    "                    cv2.circle(img, (int(x_a), int(y_a)), 3, color, -1)\n",
    "                kpt_b_id = BODY_PARTS_KPT_IDS[part_id][1]\n",
    "                global_kpt_b_id = pose_entries[n][kpt_b_id]\n",
    "                if global_kpt_b_id != -1:\n",
    "                    x_b, y_b = all_keypoints[int(global_kpt_b_id), 0:2]\n",
    "                    cv2.circle(img, (int(x_b), int(y_b)), 3, color, -1)\n",
    "                if global_kpt_a_id != -1 and global_kpt_b_id != -1:\n",
    "                    cv2.line(img, (int(x_a), int(y_a)), (int(x_b), int(y_b)), color, 2)\n",
    "\n",
    "        img = cv2.addWeighted(orig_img, 0.6, img, 0.4, 0)\n",
    "#         cv2.imshow('Lightweight Human Pose Estimation Python Demo', img)\n",
    "        \n",
    "#         key = cv2.waitKey(33)\n",
    "#         if key == 27:  # esc\n",
    "#             return\n",
    "        return img"
   ]
  },
  {
   "cell_type": "code",
   "execution_count": 22,
   "metadata": {},
   "outputs": [],
   "source": [
    "checkpoint_path = '.\\checkpoints\\checkpoint_iter_370000.pth'"
   ]
  },
  {
   "cell_type": "code",
   "execution_count": 23,
   "metadata": {},
   "outputs": [],
   "source": [
    "net = PoseEstimationWithMobileNet()\n",
    "checkpoint = torch.load(checkpoint_path, map_location='cpu')\n",
    "load_state(net, checkpoint)"
   ]
  },
  {
   "cell_type": "code",
   "execution_count": 25,
   "metadata": {},
   "outputs": [],
   "source": [
    "\n",
    "# parser = argparse.ArgumentParser(\n",
    "#     description='''Lightweight human pose estimation python demo.\n",
    "#                    This is just for quick results preview.\n",
    "#                    Please, consider c++ demo for the best performance.''')\n",
    "# parser.add_argument('--checkpoint-path', type=str, required=True, help='path to the checkpoint')\n",
    "# parser.add_argument('--height-size', type=int, default=256, help='network input layer height size')\n",
    "# parser.add_argument('--video', type=str, default='', help='path to video file or camera id')\n",
    "# parser.add_argument('--images', nargs='+', default='', help='path to input image(s)')\n",
    "# parser.add_argument('--cpu', action='store_true', help='run network inference on cpu')\n",
    "# args = parser.parse_args()\n",
    "\n",
    "args = Struct(checkpoint_path = '.\\checkpoints\\checkpoint_iter_370000.pth', height_size=256, images=['planknew.jpeg'], cpu=False, video='')\n",
    "\n",
    "if args.video == '' and args.images == '':\n",
    "    raise ValueError('Either --video or --image has to be provided')\n",
    "\n",
    "\n",
    "\n",
    "frame_provider = ImageReader(args.images)\n",
    "if args.video != '':\n",
    "    frame_provider = VideoReader(args.video)\n",
    "\n",
    "img= run_demo(net, frame_provider, args.height_size, args.cpu)\n",
    "\n",
    "plt.imshow(cv2.cvtColor(img, cv2.COLOR_BGR2RGB))\n",
    "plt.show()"
   ]
  },
  {
   "cell_type": "code",
   "execution_count": null,
   "metadata": {},
   "outputs": [],
   "source": []
  }
 ],
 "metadata": {
  "kernelspec": {
   "display_name": "Python 3",
   "language": "python",
   "name": "python3"
  },
  "language_info": {
   "codemirror_mode": {
    "name": "ipython",
    "version": 3
   },
   "file_extension": ".py",
   "mimetype": "text/x-python",
   "name": "python",
   "nbconvert_exporter": "python",
   "pygments_lexer": "ipython3",
   "version": "3.6.5"
  }
 },
 "nbformat": 4,
 "nbformat_minor": 2
}
